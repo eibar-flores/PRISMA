{
 "cells": [
  {
   "cell_type": "code",
   "execution_count": 1,
   "id": "bbad772d",
   "metadata": {},
   "outputs": [],
   "source": [
    "from baseline_peakfit import BaselinePeakFitting"
   ]
  },
  {
   "cell_type": "code",
   "execution_count": 2,
   "id": "38e43594",
   "metadata": {},
   "outputs": [],
   "source": [
    "widget_group = BaselinePeakFitting()"
   ]
  },
  {
   "cell_type": "code",
   "execution_count": 3,
   "id": "4fb660b8",
   "metadata": {},
   "outputs": [
    {
     "data": {
      "application/vnd.jupyter.widget-view+json": {
       "model_id": "5987c23689ca4ce68b42b13f01225a07",
       "version_major": 2,
       "version_minor": 0
      },
      "text/plain": [
       "VBox(children=(HBox(children=(VBox(children=(HTML(value='<h3>Manage Spectra</h3>'), VBox(children=(Dropdown(de…"
      ]
     },
     "metadata": {},
     "output_type": "display_data"
    }
   ],
   "source": [
    "widget_group.interface"
   ]
  },
  {
   "cell_type": "code",
   "execution_count": null,
   "id": "13e61b96",
   "metadata": {},
   "outputs": [],
   "source": []
  }
 ],
 "metadata": {
  "kernelspec": {
   "display_name": "prisma",
   "language": "python",
   "name": "prisma"
  },
  "language_info": {
   "codemirror_mode": {
    "name": "ipython",
    "version": 3
   },
   "file_extension": ".py",
   "mimetype": "text/x-python",
   "name": "python",
   "nbconvert_exporter": "python",
   "pygments_lexer": "ipython3",
   "version": "3.9.1"
  }
 },
 "nbformat": 4,
 "nbformat_minor": 5
}
